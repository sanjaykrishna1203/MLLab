{
 "cells": [
  {
   "cell_type": "code",
   "execution_count": 2,
   "id": "ac40421b-8306-48d2-a4f4-3a12cc5154f0",
   "metadata": {
    "tags": []
   },
   "outputs": [
    {
     "name": "stdout",
     "output_type": "stream",
     "text": [
      "[6, 7, 2, 7]\n",
      "Accuracy  0.5909090909090909\n",
      "Precision  0.75\n",
      "recall  0.5454545454545454\n",
      "Sensitivity  0.5454545454545454\n",
      "Specificity  0.7777777777777778\n",
      "MCE  0.40909090909090906\n"
     ]
    }
   ],
   "source": [
    "y=['0','1','0','1','1','1','0','1','0','1','0','0','0','1','1','1','0','1','1','0']\n",
    "y_pred = ['0','0','0','0','1','0','1','1','1','1','0','0','0','0','0','1','0','1','1','0']\n",
    "\n",
    "j = 0\n",
    "TN = TP = FN = FP = 0\n",
    "\n",
    "for i in y:\n",
    "    if i == '1' and y_pred[j] == '1':\n",
    "        TP += 1\n",
    "    elif i == '1' and y_pred[j] == '0':\n",
    "        FN += 1\n",
    "    elif i == '0' and y_pred[j] == '1':\n",
    "        FP += 1\n",
    "    elif i == '0' and y_pred[j] == '0':\n",
    "        TN += 1\n",
    "    j += 1\n",
    "\n",
    "confusion_matrix = [TP, TN, FP, TN]\n",
    "print(confusion_matrix)\n",
    "\n",
    "accuracy = (TP+TN)/(TP+TN+FP+TN)\n",
    "print(\"Accuracy \",accuracy)\n",
    "\n",
    "prec = TP / (TP+FP)\n",
    "print(\"Precision \", prec)\n",
    "\n",
    "recall = TP/(TP+FN)\n",
    "print(\"recall \", recall)\n",
    "print(\"Sensitivity \", recall)\n",
    "\n",
    "spec = TN/(TN+FP)\n",
    "print(\"Specificity \", spec)\n",
    "\n",
    "MCE = 1-accuracy\n",
    "print(\"MCE \", MCE)"
   ]
  },
  {
   "cell_type": "code",
   "execution_count": null,
   "id": "74908bdc-f8e3-4b3f-95b6-38ff7f0d31d8",
   "metadata": {},
   "outputs": [],
   "source": []
  }
 ],
 "metadata": {
  "kernelspec": {
   "display_name": "Python 3 (ipykernel)",
   "language": "python",
   "name": "python3"
  },
  "language_info": {
   "codemirror_mode": {
    "name": "ipython",
    "version": 3
   },
   "file_extension": ".py",
   "mimetype": "text/x-python",
   "name": "python",
   "nbconvert_exporter": "python",
   "pygments_lexer": "ipython3",
   "version": "3.11.1"
  }
 },
 "nbformat": 4,
 "nbformat_minor": 5
}
