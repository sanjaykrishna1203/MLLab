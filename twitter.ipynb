{
 "cells": [
  {
   "cell_type": "code",
   "execution_count": 1,
   "id": "263af10d-8521-4087-8f8d-3df9aa34e049",
   "metadata": {},
   "outputs": [
    {
     "data": {
      "text/html": [
       "<div>\n",
       "<style scoped>\n",
       "    .dataframe tbody tr th:only-of-type {\n",
       "        vertical-align: middle;\n",
       "    }\n",
       "\n",
       "    .dataframe tbody tr th {\n",
       "        vertical-align: top;\n",
       "    }\n",
       "\n",
       "    .dataframe thead th {\n",
       "        text-align: right;\n",
       "    }\n",
       "</style>\n",
       "<table border=\"1\" class=\"dataframe\">\n",
       "  <thead>\n",
       "    <tr style=\"text-align: right;\">\n",
       "      <th></th>\n",
       "      <th>id</th>\n",
       "      <th>created_at</th>\n",
       "      <th>text</th>\n",
       "    </tr>\n",
       "  </thead>\n",
       "  <tbody>\n",
       "    <tr>\n",
       "      <th>0</th>\n",
       "      <td>849636868052275200</td>\n",
       "      <td>2017-04-05 14:56:29</td>\n",
       "      <td>b'And so the robots spared humanity ... https:...</td>\n",
       "    </tr>\n",
       "    <tr>\n",
       "      <th>1</th>\n",
       "      <td>848988730585096192</td>\n",
       "      <td>2017-04-03 20:01:01</td>\n",
       "      <td>b\"@ForIn2020 @waltmossberg @mims @defcon_5 Exa...</td>\n",
       "    </tr>\n",
       "    <tr>\n",
       "      <th>2</th>\n",
       "      <td>848943072423497728</td>\n",
       "      <td>2017-04-03 16:59:35</td>\n",
       "      <td>b'@waltmossberg @mims @defcon_5 Et tu, Walt?'</td>\n",
       "    </tr>\n",
       "    <tr>\n",
       "      <th>3</th>\n",
       "      <td>848935705057280001</td>\n",
       "      <td>2017-04-03 16:30:19</td>\n",
       "      <td>b'Stormy weather in Shortville ...'</td>\n",
       "    </tr>\n",
       "    <tr>\n",
       "      <th>4</th>\n",
       "      <td>848416049573658624</td>\n",
       "      <td>2017-04-02 06:05:23</td>\n",
       "      <td>b\"@DaveLeeBBC @verge Coal is dying due to nat ...</td>\n",
       "    </tr>\n",
       "    <tr>\n",
       "      <th>...</th>\n",
       "      <td>...</td>\n",
       "      <td>...</td>\n",
       "      <td>...</td>\n",
       "    </tr>\n",
       "    <tr>\n",
       "      <th>2814</th>\n",
       "      <td>142881284019060736</td>\n",
       "      <td>2011-12-03 08:22:07</td>\n",
       "      <td>b'That was a total non sequitur btw'</td>\n",
       "    </tr>\n",
       "    <tr>\n",
       "      <th>2815</th>\n",
       "      <td>142880871391838208</td>\n",
       "      <td>2011-12-03 08:20:28</td>\n",
       "      <td>b'Great Voltaire quote, arguably better than T...</td>\n",
       "    </tr>\n",
       "    <tr>\n",
       "      <th>2816</th>\n",
       "      <td>142188458125963264</td>\n",
       "      <td>2011-12-01 10:29:04</td>\n",
       "      <td>b'I made the volume on the Model S http://t.co...</td>\n",
       "    </tr>\n",
       "    <tr>\n",
       "      <th>2817</th>\n",
       "      <td>142179928203460608</td>\n",
       "      <td>2011-12-01 09:55:11</td>\n",
       "      <td>b\"Went to Iceland on Sat to ride bumper cars o...</td>\n",
       "    </tr>\n",
       "    <tr>\n",
       "      <th>2818</th>\n",
       "      <td>15434727182</td>\n",
       "      <td>2010-06-04 18:31:57</td>\n",
       "      <td>b'Please ignore prior tweets, as that was some...</td>\n",
       "    </tr>\n",
       "  </tbody>\n",
       "</table>\n",
       "<p>2819 rows × 3 columns</p>\n",
       "</div>"
      ],
      "text/plain": [
       "                      id           created_at   \n",
       "0     849636868052275200  2017-04-05 14:56:29  \\\n",
       "1     848988730585096192  2017-04-03 20:01:01   \n",
       "2     848943072423497728  2017-04-03 16:59:35   \n",
       "3     848935705057280001  2017-04-03 16:30:19   \n",
       "4     848416049573658624  2017-04-02 06:05:23   \n",
       "...                  ...                  ...   \n",
       "2814  142881284019060736  2011-12-03 08:22:07   \n",
       "2815  142880871391838208  2011-12-03 08:20:28   \n",
       "2816  142188458125963264  2011-12-01 10:29:04   \n",
       "2817  142179928203460608  2011-12-01 09:55:11   \n",
       "2818         15434727182  2010-06-04 18:31:57   \n",
       "\n",
       "                                                   text  \n",
       "0     b'And so the robots spared humanity ... https:...  \n",
       "1     b\"@ForIn2020 @waltmossberg @mims @defcon_5 Exa...  \n",
       "2         b'@waltmossberg @mims @defcon_5 Et tu, Walt?'  \n",
       "3                   b'Stormy weather in Shortville ...'  \n",
       "4     b\"@DaveLeeBBC @verge Coal is dying due to nat ...  \n",
       "...                                                 ...  \n",
       "2814               b'That was a total non sequitur btw'  \n",
       "2815  b'Great Voltaire quote, arguably better than T...  \n",
       "2816  b'I made the volume on the Model S http://t.co...  \n",
       "2817  b\"Went to Iceland on Sat to ride bumper cars o...  \n",
       "2818  b'Please ignore prior tweets, as that was some...  \n",
       "\n",
       "[2819 rows x 3 columns]"
      ]
     },
     "execution_count": 1,
     "metadata": {},
     "output_type": "execute_result"
    }
   ],
   "source": [
    "import pandas as pd\n",
    "import numpy as np\n",
    "import re\n",
    "\n",
    "data = pd.read_csv(\"tweets.csv\")\n",
    "data"
   ]
  },
  {
   "cell_type": "code",
   "execution_count": 2,
   "id": "ca0e71ac-dbb3-417f-a969-aa0a8e9c4488",
   "metadata": {},
   "outputs": [
    {
     "name": "stdout",
     "output_type": "stream",
     "text": [
      "                      id           created_at   \n",
      "0     849636868052275200  2017-04-05 14:56:29  \\\n",
      "1     848988730585096192  2017-04-03 20:01:01   \n",
      "2     848943072423497728  2017-04-03 16:59:35   \n",
      "3     848935705057280001  2017-04-03 16:30:19   \n",
      "4     848416049573658624  2017-04-02 06:05:23   \n",
      "...                  ...                  ...   \n",
      "2814  142881284019060736  2011-12-03 08:22:07   \n",
      "2815  142880871391838208  2011-12-03 08:20:28   \n",
      "2816  142188458125963264  2011-12-01 10:29:04   \n",
      "2817  142179928203460608  2011-12-01 09:55:11   \n",
      "2818         15434727182  2010-06-04 18:31:57   \n",
      "\n",
      "                                                   text  \n",
      "0     b'And so the robots spared humanity ... https:...  \n",
      "1     b\"@ForIn2020 @waltmossberg @mims @defcon_5 Exa...  \n",
      "2         b'@waltmossberg @mims @defcon_5 Et tu, Walt?'  \n",
      "3                   b'Stormy weather in Shortville ...'  \n",
      "4     b\"@DaveLeeBBC @verge Coal is dying due to nat ...  \n",
      "...                                                 ...  \n",
      "2814               b'That was a total non sequitur btw'  \n",
      "2815  b'Great Voltaire quote, arguably better than T...  \n",
      "2816  b'I made the volume on the Model S http://t.co...  \n",
      "2817  b\"Went to Iceland on Sat to ride bumper cars o...  \n",
      "2818  b'Please ignore prior tweets, as that was some...  \n",
      "\n",
      "[2819 rows x 3 columns]\n"
     ]
    }
   ],
   "source": [
    "def remove_pattern(input_text, pattern):\n",
    "    r = re.findall(pattern, input_text)\n",
    "    for i in r:\n",
    "        input_text = re.sub(i, ' ', input_text)\n",
    "    return input_text\n",
    "print(data)"
   ]
  },
  {
   "cell_type": "code",
   "execution_count": 3,
   "id": "86976961-b385-4283-bd34-a3519a1b5745",
   "metadata": {},
   "outputs": [
    {
     "name": "stdout",
     "output_type": "stream",
     "text": [
      "0       b'And so the robots spared humanity ... https:...\n",
      "1       b\"        Exactly. Tesla is absurdly overvalue...\n",
      "2                                   b'      Et tu, Walt?'\n",
      "3                     b'Stormy weather in Shortville ...'\n",
      "4       b\"    Coal is dying due to nat gas fracking. I...\n",
      "                              ...                        \n",
      "2814                 b'That was a total non sequitur btw'\n",
      "2815    b'Great Voltaire quote, arguably better than T...\n",
      "2816    b'I made the volume on the Model S http://t.co...\n",
      "2817    b\"Went to Iceland on Sat to ride bumper cars o...\n",
      "2818    b'Please ignore prior tweets, as that was some...\n",
      "Name: New, Length: 2819, dtype: object\n"
     ]
    }
   ],
   "source": [
    "data['New'] = np.vectorize(remove_pattern)(data['text'], '@[\\w]*')\n",
    "print(data['New'])"
   ]
  },
  {
   "cell_type": "code",
   "execution_count": 4,
   "id": "1a810962-1d3e-4707-a2b1-22b73a960f50",
   "metadata": {},
   "outputs": [
    {
     "name": "stdout",
     "output_type": "stream",
     "text": [
      "0       b'And so the robots spared humanity ... https:...\n",
      "1       b\"        Exactly. Tesla is absurdly overvalue...\n",
      "2                                   b'      Et tu, Walt?'\n",
      "3                     b'Stormy weather in Shortville ...'\n",
      "4       b\"    Coal is dying due to nat gas fracking. I...\n",
      "                              ...                        \n",
      "2814                 b'That was a total non sequitur btw'\n",
      "2815    b'Great Voltaire quote, arguably better than T...\n",
      "2816    b'I made the volume on the Model S http://t.co...\n",
      "2817    b\"Went to Iceland on Sat to ride bumper cars o...\n",
      "2818    b'Please ignore prior tweets, as that was some...\n",
      "Name: New, Length: 2819, dtype: object\n"
     ]
    }
   ],
   "source": [
    "data['New'] = data['New'].str.replace('^[A-Za-z#]', ' ')\n",
    "print(data['New'])"
   ]
  },
  {
   "cell_type": "code",
   "execution_count": 5,
   "id": "bd3b262c-2719-4aac-9d3e-05a516a99688",
   "metadata": {},
   "outputs": [
    {
     "name": "stdout",
     "output_type": "stream",
     "text": [
      "                      id           created_at   \n",
      "0     849636868052275200  2017-04-05 14:56:29  \\\n",
      "1     848988730585096192  2017-04-03 20:01:01   \n",
      "2     848943072423497728  2017-04-03 16:59:35   \n",
      "3     848935705057280001  2017-04-03 16:30:19   \n",
      "4     848416049573658624  2017-04-02 06:05:23   \n",
      "...                  ...                  ...   \n",
      "2814  142881284019060736  2011-12-03 08:22:07   \n",
      "2815  142880871391838208  2011-12-03 08:20:28   \n",
      "2816  142188458125963264  2011-12-01 10:29:04   \n",
      "2817  142179928203460608  2011-12-01 09:55:11   \n",
      "2818         15434727182  2010-06-04 18:31:57   \n",
      "\n",
      "                                                   text   \n",
      "0     b'And so the robots spared humanity ... https:...  \\\n",
      "1     b\"@ForIn2020 @waltmossberg @mims @defcon_5 Exa...   \n",
      "2         b'@waltmossberg @mims @defcon_5 Et tu, Walt?'   \n",
      "3                   b'Stormy weather in Shortville ...'   \n",
      "4     b\"@DaveLeeBBC @verge Coal is dying due to nat ...   \n",
      "...                                                 ...   \n",
      "2814               b'That was a total non sequitur btw'   \n",
      "2815  b'Great Voltaire quote, arguably better than T...   \n",
      "2816  b'I made the volume on the Model S http://t.co...   \n",
      "2817  b\"Went to Iceland on Sat to ride bumper cars o...   \n",
      "2818  b'Please ignore prior tweets, as that was some...   \n",
      "\n",
      "                                                    New  \n",
      "0     b'And robots spared humanity https://t.co/v7JU...  \n",
      "1     Exactly. Tesla absurdly overvalued based past,...  \n",
      "2                                                Walt?'  \n",
      "3                      b'Stormy weather Shortville ...'  \n",
      "4            Coal dying fracking. It's basically dead.\"  \n",
      "...                                                 ...  \n",
      "2814                         b'That total sequitur btw'  \n",
      "2815  b'Great Voltaire quote, arguably better than T...  \n",
      "2816  made volume Model http://t.co/wMCnT53M just ne...  \n",
      "2817  b\"Went Iceland ride bumper cars ice! country, ...  \n",
      "2818  b'Please ignore prior tweets, that someone pre...  \n",
      "\n",
      "[2819 rows x 4 columns]\n"
     ]
    }
   ],
   "source": [
    "data['New'] = data['New'].apply(lambda x: ' '.join([w for w in x.split() if len(w) > 3]))\n",
    "print(data)"
   ]
  },
  {
   "cell_type": "code",
   "execution_count": 6,
   "id": "979aa807-48e1-419b-a6a5-92e80694b389",
   "metadata": {
    "tags": []
   },
   "outputs": [
    {
     "name": "stdout",
     "output_type": "stream",
     "text": [
      "0       [b'And, robots, spared, humanity, https://t.co...\n",
      "1       [Exactly., Tesla, absurdly, overvalued, based,...\n",
      "2                                                [Walt?']\n",
      "3                   [b'Stormy, weather, Shortville, ...']\n",
      "4       [Coal, dying, fracking., It's, basically, dead.\"]\n",
      "                              ...                        \n",
      "2814                      [b'That, total, sequitur, btw']\n",
      "2815    [b'Great, Voltaire, quote,, arguably, better, ...\n",
      "2816    [made, volume, Model, http://t.co/wMCnT53M, ju...\n",
      "2817    [b\"Went, Iceland, ride, bumper, cars, ice!, co...\n",
      "2818    [b'Please, ignore, prior, tweets,, that, someo...\n",
      "Name: New, Length: 2819, dtype: object\n"
     ]
    }
   ],
   "source": [
    "tokenized_tweet = data['New'].apply(lambda x:x.split())\n",
    "print(tokenized_tweet)"
   ]
  },
  {
   "cell_type": "code",
   "execution_count": 8,
   "id": "f4d8729b-b7e4-474b-b58e-a497f8c9bb11",
   "metadata": {
    "tags": []
   },
   "outputs": [
    {
     "ename": "ModuleNotFoundError",
     "evalue": "No module named 'nltk'",
     "output_type": "error",
     "traceback": [
      "\u001b[1;31m---------------------------------------------------------------------------\u001b[0m",
      "\u001b[1;31mModuleNotFoundError\u001b[0m                       Traceback (most recent call last)",
      "Cell \u001b[1;32mIn[8], line 1\u001b[0m\n\u001b[1;32m----> 1\u001b[0m \u001b[38;5;28;01mfrom\u001b[39;00m \u001b[38;5;21;01mnltk\u001b[39;00m\u001b[38;5;21;01m.\u001b[39;00m\u001b[38;5;21;01mstem\u001b[39;00m \u001b[38;5;28;01mimport\u001b[39;00m PorterStemmer\n\u001b[0;32m      2\u001b[0m stemmer \u001b[38;5;241m=\u001b[39m PorterStemmer()\n\u001b[0;32m      4\u001b[0m tokenized_tweet \u001b[38;5;241m=\u001b[39m tokenized_tweet\u001b[38;5;241m.\u001b[39mapply(\u001b[38;5;28;01mlambda\u001b[39;00m x: [stemmer\u001b[38;5;241m.\u001b[39mstem(i) \u001b[38;5;28;01mfor\u001b[39;00m i \u001b[38;5;129;01min\u001b[39;00m x])\n",
      "\u001b[1;31mModuleNotFoundError\u001b[0m: No module named 'nltk'"
     ]
    }
   ],
   "source": [
    "from nltk.stem import PorterStemmer\n",
    "stemmer = PorterStemmer()\n",
    "\n",
    "tokenized_tweet = tokenized_tweet.apply(lambda x: [stemmer.stem(i) for i in x])\n",
    "print(tokenized_tweet)"
   ]
  },
  {
   "cell_type": "code",
   "execution_count": null,
   "id": "b0f11727-4c94-433f-b816-132a6c6dce7d",
   "metadata": {},
   "outputs": [],
   "source": []
  }
 ],
 "metadata": {
  "kernelspec": {
   "display_name": "Python 3 (ipykernel)",
   "language": "python",
   "name": "python3"
  },
  "language_info": {
   "codemirror_mode": {
    "name": "ipython",
    "version": 3
   },
   "file_extension": ".py",
   "mimetype": "text/x-python",
   "name": "python",
   "nbconvert_exporter": "python",
   "pygments_lexer": "ipython3",
   "version": "3.11.1"
  }
 },
 "nbformat": 4,
 "nbformat_minor": 5
}
