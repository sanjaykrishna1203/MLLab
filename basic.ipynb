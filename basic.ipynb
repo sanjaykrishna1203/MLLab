{
 "cells": [
  {
   "cell_type": "code",
   "execution_count": 41,
   "id": "8bd5a74d-46a8-45b6-8460-56c51c8065dc",
   "metadata": {
    "tags": []
   },
   "outputs": [
    {
     "name": "stdout",
     "output_type": "stream",
     "text": [
      "Enter the Operand 1\n"
     ]
    },
    {
     "name": "stdin",
     "output_type": "stream",
     "text": [
      " 5\n"
     ]
    },
    {
     "name": "stdout",
     "output_type": "stream",
     "text": [
      "Enter the Operand 2\n"
     ]
    },
    {
     "name": "stdin",
     "output_type": "stream",
     "text": [
      " 6\n"
     ]
    },
    {
     "name": "stdout",
     "output_type": "stream",
     "text": [
      "Enter the Operator\n",
      "Addition : + \n",
      "Subraction : -\n",
      "Multiplication : *\n",
      "Division : / \n"
     ]
    },
    {
     "name": "stdin",
     "output_type": "stream",
     "text": [
      " +\n"
     ]
    },
    {
     "name": "stdout",
     "output_type": "stream",
     "text": [
      "11\n"
     ]
    }
   ],
   "source": [
    "# Basic Calculator\n",
    "print(\"Enter the Operand 1\")\n",
    "a = int(input())\n",
    "print(\"Enter the Operand 2\")\n",
    "b = int(input())\n",
    "print(\"Enter the Operator\\nAddition : + \\nSubraction : -\\nMultiplication : *\\nDivision : / \")\n",
    "op = input()\n",
    "if(op == '+'):\n",
    "    print(a+b)\n",
    "if(op == '-'):\n",
    "    print(a-b)\n",
    "if(op == '*'):\n",
    "    print(a*b)\n",
    "if(op == '/'):\n",
    "    print(a/b)"
   ]
  },
  {
   "cell_type": "code",
   "execution_count": 17,
   "id": "c304f4a0-1453-49d4-8661-79b28dee5b3b",
   "metadata": {
    "tags": []
   },
   "outputs": [
    {
     "name": "stdout",
     "output_type": "stream",
     "text": [
      "0\n",
      "1\n",
      "2\n",
      "3\n",
      "4\n",
      "5\n",
      "6\n",
      "7\n",
      "8\n",
      "9\n",
      "153\n",
      "370\n",
      "371\n",
      "407\n",
      "1634\n",
      "8208\n",
      "9474\n"
     ]
    }
   ],
   "source": [
    "# Armstrong Number\n",
    "for i in range(0,10000):\n",
    "    n = i\n",
    "    order = len(str(n))\n",
    "    sum = 0\n",
    "    while(n > 0 ):\n",
    "        digit = n % 10\n",
    "        sum += digit ** order\n",
    "        n //= 10\n",
    "    if(sum == i):\n",
    "        print(i)"
   ]
  },
  {
   "cell_type": "code",
   "execution_count": 22,
   "id": "8f61519f-1a79-46d5-853b-d4449ea54956",
   "metadata": {},
   "outputs": [
    {
     "name": "stdin",
     "output_type": "stream",
     "text": [
      " 10\n"
     ]
    },
    {
     "name": "stdout",
     "output_type": "stream",
     "text": [
      "0\n",
      "1\n",
      "1\n",
      "2\n",
      "3\n",
      "5\n",
      "8\n",
      "13\n",
      "21\n",
      "34\n"
     ]
    }
   ],
   "source": [
    "# Fibonacci\n",
    "\n",
    "n = int(input())\n",
    "n1 = 0\n",
    "n2 = 1\n",
    "count = 0\n",
    "while count < n:\n",
    "    print(n1)\n",
    "    x = n1 + n2\n",
    "    n2 = n1\n",
    "    n1 = x\n",
    "    count += 1\n"
   ]
  },
  {
   "cell_type": "code",
   "execution_count": 25,
   "id": "9643ae90-dd38-4bf4-b6ef-a645d93076d4",
   "metadata": {},
   "outputs": [
    {
     "name": "stdin",
     "output_type": "stream",
     "text": [
      "Enter the first Number 5\n",
      "Enter the Second Number 7\n"
     ]
    },
    {
     "name": "stdout",
     "output_type": "stream",
     "text": [
      "The Sum  12\n",
      "The Difference -2\n",
      "The Product 35\n",
      "The Quotient 0.7142857142857143\n"
     ]
    }
   ],
   "source": [
    "# Modules and Functions\n",
    "\n",
    "def add(a,b):\n",
    "    return a+b\n",
    "def sub(a,b):\n",
    "    return a-b\n",
    "def mul(a,b):\n",
    "    return a*b\n",
    "def div(a,b):\n",
    "    return a/b\n",
    "\n",
    "a = int(input(\"Enter the first Number\"))\n",
    "b = int(input(\"Enter the Second Number\"))\n",
    "\n",
    "print(\"The Sum \", add(a,b))\n",
    "print(\"The Difference\", sub(a,b))\n",
    "print(\"The Product\", mul(a,b))\n",
    "print(\"The Quotient\", div(a,b))"
   ]
  },
  {
   "cell_type": "code",
   "execution_count": 39,
   "id": "03fd300e-bd97-40c5-a467-d97a9ade5556",
   "metadata": {
    "tags": []
   },
   "outputs": [
    {
     "name": "stdin",
     "output_type": "stream",
     "text": [
      "Input This is a string with Special Charaters like /*/ and 123\n"
     ]
    },
    {
     "name": "stdout",
     "output_type": "stream",
     "text": [
      "Alphabets  40\n",
      "LowerCase  37\n",
      "UpperCase  3\n",
      "Digits  3\n",
      "Special chars  3\n"
     ]
    }
   ],
   "source": [
    "# String Operations - Count the number of alphabets,\n",
    "# upper case, lower case, digits and special characters\n",
    "\n",
    "alphaber = digit = lower =  upper = special = 0\n",
    "s = input(\"Input\")\n",
    "l = s.__len__()\n",
    "for i in range(0,l):\n",
    "    if(s[i].isalpha()):\n",
    "        alphaber += 1\n",
    "    if(s[i].islower()):\n",
    "        lower+=1\n",
    "    elif(s[i].isupper()):\n",
    "        upper+=1\n",
    "    elif(s[i].isdigit()):\n",
    "        digit+=1\n",
    "    elif(s[i] != ' '):\n",
    "        special += 1\n",
    "\n",
    "print(\"Alphabets \", alphaber)\n",
    "print(\"LowerCase \", lower)\n",
    "print(\"UpperCase \", upper)\n",
    "print(\"Digits \", digit)\n",
    "print(\"Special chars \", special)"
   ]
  },
  {
   "cell_type": "code",
   "execution_count": 48,
   "id": "d2d6a0c7-43ed-4ff9-b1a1-29d5cbfd89ad",
   "metadata": {
    "tags": []
   },
   "outputs": [
    {
     "name": "stdin",
     "output_type": "stream",
     "text": [
      "Enter the number N 9\n"
     ]
    },
    {
     "name": "stdout",
     "output_type": "stream",
     "text": [
      "-----------.|.-----------\n",
      "--------.|..|..|.--------\n",
      "-----.|..|..|..|..|.-----\n",
      "--.|..|..|..|..|..|..|.--\n",
      "----------Welcome----------\n",
      "--.|..|..|..|..|..|..|.--\n",
      "-----.|..|..|..|..|.-----\n",
      "--------.|..|..|.--------\n",
      "-----------.|.-----------\n"
     ]
    }
   ],
   "source": [
    "# Pattern Printing - Welcome in Center of N x M Matrix\n",
    "\n",
    "import math\n",
    "n = int(input(\"Enter the number N\"))\n",
    "m = n*3\n",
    "\n",
    "for i in range(0, math.floor(n/2)):\n",
    "    s = '.|.' * i\n",
    "    print(s.rjust(math.floor((m/2)-2), '-')+'.|.'+s.ljust(math.floor((m/2)-2), '-'))\n",
    "print('Welcome'.center(m,'-'))\n",
    "for i in reversed(range(0, math.floor(n/2))):\n",
    "    s = '.|.' * i\n",
    "    print(s.rjust(math.floor((m/2)-2), '-')+'.|.'+s.ljust(math.floor((m/2)-2), '-'))"
   ]
  },
  {
   "cell_type": "code",
   "execution_count": null,
   "id": "1d81fcd1-13a8-4552-ae4f-0e10264c88cc",
   "metadata": {},
   "outputs": [],
   "source": []
  }
 ],
 "metadata": {
  "kernelspec": {
   "display_name": "Python 3 (ipykernel)",
   "language": "python",
   "name": "python3"
  },
  "language_info": {
   "codemirror_mode": {
    "name": "ipython",
    "version": 3
   },
   "file_extension": ".py",
   "mimetype": "text/x-python",
   "name": "python",
   "nbconvert_exporter": "python",
   "pygments_lexer": "ipython3",
   "version": "3.11.1"
  }
 },
 "nbformat": 4,
 "nbformat_minor": 5
}
